{
 "cells": [
  {
   "cell_type": "code",
   "execution_count": null,
   "id": "c8404050",
   "metadata": {},
   "outputs": [],
   "source": [
    "#pip install simpy"
   ]
  },
  {
   "cell_type": "markdown",
   "id": "dd81068b",
   "metadata": {},
   "source": [
    "## Tutorial"
   ]
  },
  {
   "cell_type": "code",
   "execution_count": null,
   "id": "3c2bf4de",
   "metadata": {},
   "outputs": [],
   "source": [
    "import simpy\n",
    "\n",
    "def car(env):\n",
    "    while True:\n",
    "        print('Start parking at %d' % env.now)\n",
    "        parking_duration = 5\n",
    "        yield env.timeout(parking_duration)\n",
    "\n",
    "        print('Start driving at %d' % env.now)\n",
    "        trip_duration = 2\n",
    "        yield env.timeout(trip_duration)\n",
    "        \n",
    "\n",
    "env = simpy.Environment()\n",
    "env.process(car(env))\n",
    "env.run(until=15)"
   ]
  },
  {
   "cell_type": "markdown",
   "id": "815e147f",
   "metadata": {},
   "source": [
    "## Case 1a: Base scenario M/M/1"
   ]
  },
  {
   "cell_type": "code",
   "execution_count": null,
   "id": "c70a17be",
   "metadata": {},
   "outputs": [],
   "source": [
    "# SimPy simulation of an M/M/1 queueing system.\n",
    "# The system has a single server and an infinite queue.\n",
    "# The inter-arrival time is exponentially distributed with a mean of 1.0 time units.\n",
    "# The service time is exponentially distributed with a mean of 0.5 time units.\n",
    "# The simulation should run for 1000 time units.\n",
    "# The output should be an array of the service times for each customer.\n",
    "\n",
    "import simpy\n",
    "from statistics import mean\n",
    "import random\n",
    "import numpy as np\n",
    "\n",
    "# Parameters\n",
    "arrival_rate = 90.0\n",
    "service_rate = 100.0\n",
    "num_requests = 1_000_000\n",
    "\n",
    "# Results\n",
    "response_times = []\n",
    "\n",
    "# ---------------------------------------------------------------------------\n",
    "# SimPy model\n",
    "env = simpy.Environment()\n",
    "server = simpy.Resource(env, capacity=1)\n",
    "\n",
    "def request_generator(env):\n",
    "    for i in range(num_requests):\n",
    "        yield env.timeout(random.expovariate(arrival_rate))\n",
    "        env.process(process_request(env))\n",
    "\n",
    "def process_request(env):\n",
    "    arrival_time = env.now\n",
    "    job = server.request()\n",
    "    # Wait for the server to become available (wait in the queue)\n",
    "    yield job\n",
    "    # Process the request\n",
    "    yield env.timeout(random.expovariate(service_rate))\n",
    "    departure_time = env.now\n",
    "    response_times.append(departure_time - arrival_time)\n",
    "    server.release(job)\n",
    "\n",
    "env.process(request_generator(env))\n",
    "env.run()\n",
    "\n",
    "# ---------------------------------------------------------------------------\n",
    "# Compute the results\n",
    "mean_response_time = np.mean(response_times)\n",
    "print(f'Mean response time: {mean_response_time:.4f} s')\n",
    "response_time_99 = np.percentile(response_times, 99)\n",
    "print(f'Response time (99th percentile): {response_time_99:.4f} s')"
   ]
  },
  {
   "cell_type": "markdown",
   "id": "5ebef762",
   "metadata": {},
   "source": [
    "For mean time of 100 ms a mu of 100 is sufficient"
   ]
  },
  {
   "cell_type": "markdown",
   "id": "c131f390",
   "metadata": {},
   "source": [
    "## Case 1b: M/M/1 model when doubling the arrival rate"
   ]
  },
  {
   "cell_type": "code",
   "execution_count": null,
   "id": "ce11cd84",
   "metadata": {},
   "outputs": [],
   "source": [
    "# Parameters\n",
    "arrival_rate = 180.0\n",
    "service_rate = 200.0\n",
    "num_requests = 1_000_000\n",
    "\n",
    "env.process(request_generator(env))\n",
    "env.run()\n",
    "\n",
    "# ---------------------------------------------------------------------------\n",
    "# Compute the results\n",
    "mean_response_time = np.mean(response_times)\n",
    "print(f'Mean response time: {mean_response_time:.4f} s')\n",
    "response_time_99 = np.percentile(response_times, 99)\n",
    "print(f'Response time (99th percentile): {response_time_99:.4f} s')"
   ]
  },
  {
   "cell_type": "code",
   "execution_count": null,
   "id": "7793ecf9",
   "metadata": {},
   "outputs": [],
   "source": []
  }
 ],
 "metadata": {
  "kernelspec": {
   "display_name": "Python 3 (ipykernel)",
   "language": "python",
   "name": "python3"
  },
  "language_info": {
   "codemirror_mode": {
    "name": "ipython",
    "version": 3
   },
   "file_extension": ".py",
   "mimetype": "text/x-python",
   "name": "python",
   "nbconvert_exporter": "python",
   "pygments_lexer": "ipython3",
   "version": "3.9.7"
  }
 },
 "nbformat": 4,
 "nbformat_minor": 5
}
