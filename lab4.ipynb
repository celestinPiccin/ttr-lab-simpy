{
 "cells": [
  {
   "cell_type": "markdown",
   "id": "0898ed95",
   "metadata": {},
   "source": [
    "# TTR - Lab 4 - Simpy - Célestin Piccin"
   ]
  },
  {
   "cell_type": "code",
   "execution_count": 1,
   "id": "c8404050",
   "metadata": {},
   "outputs": [],
   "source": [
    "#pip install simpy"
   ]
  },
  {
   "cell_type": "markdown",
   "id": "dd81068b",
   "metadata": {},
   "source": [
    "## Tutorial"
   ]
  },
  {
   "cell_type": "code",
   "execution_count": 2,
   "id": "3c2bf4de",
   "metadata": {},
   "outputs": [
    {
     "name": "stdout",
     "output_type": "stream",
     "text": [
      "Start parking at 0\n",
      "Start driving at 5\n",
      "Start parking at 7\n",
      "Start driving at 12\n",
      "Start parking at 14\n"
     ]
    }
   ],
   "source": [
    "import simpy\n",
    "\n",
    "def car(env):\n",
    "    while True:\n",
    "        print('Start parking at %d' % env.now)\n",
    "        parking_duration = 5\n",
    "        yield env.timeout(parking_duration)\n",
    "\n",
    "        print('Start driving at %d' % env.now)\n",
    "        trip_duration = 2\n",
    "        yield env.timeout(trip_duration)\n",
    "        \n",
    "\n",
    "env = simpy.Environment()\n",
    "env.process(car(env))\n",
    "env.run(until=15)"
   ]
  },
  {
   "cell_type": "markdown",
   "id": "815e147f",
   "metadata": {},
   "source": [
    "## Case 1a: Base scenario M/M/1"
   ]
  },
  {
   "cell_type": "code",
   "execution_count": 3,
   "id": "c70a17be",
   "metadata": {},
   "outputs": [
    {
     "name": "stdout",
     "output_type": "stream",
     "text": [
      "Mean response time: 0.1023 s\n"
     ]
    }
   ],
   "source": [
    "# SimPy simulation of an M/M/1 queueing system.\n",
    "# The system has a single server and an infinite queue.\n",
    "# The inter-arrival time is exponentially distributed with a mean of 1.0 time units.\n",
    "# The service time is exponentially distributed with a mean of 0.5 time units.\n",
    "# The simulation should run for 1000 time units.\n",
    "# The output should be an array of the service times for each customer.\n",
    "\n",
    "from statistics import mean\n",
    "import random\n",
    "import numpy as np\n",
    "\n",
    "# Parameters\n",
    "arrival_rate = 90.0\n",
    "service_rate = 100.0\n",
    "num_requests = 1_000_000\n",
    "\n",
    "# Results\n",
    "response_times = []\n",
    "\n",
    "# ---------------------------------------------------------------------------\n",
    "# SimPy model\n",
    "env = simpy.Environment()\n",
    "server = simpy.Resource(env, capacity=1)\n",
    "\n",
    "def request_generator(env):\n",
    "    for i in range(num_requests):\n",
    "        yield env.timeout(random.expovariate(arrival_rate))\n",
    "        env.process(process_request(env))\n",
    "\n",
    "def process_request(env):\n",
    "    arrival_time = env.now\n",
    "    job = server.request()\n",
    "    # Wait for the server to become available (wait in the queue)\n",
    "    yield job\n",
    "    # Process the request\n",
    "    yield env.timeout(random.expovariate(service_rate))\n",
    "    departure_time = env.now\n",
    "    response_times.append(departure_time - arrival_time)\n",
    "    server.release(job)\n",
    "\n",
    "env.process(request_generator(env))\n",
    "env.run()\n",
    "\n",
    "# ---------------------------------------------------------------------------\n",
    "# Compute the results\n",
    "mean_response_time = np.mean(response_times)\n",
    "print(f'Mean response time: {mean_response_time:.4f} s')"
   ]
  },
  {
   "cell_type": "markdown",
   "id": "5ebef762",
   "metadata": {},
   "source": [
    "> For mean time of 100 ms a mu of 100 is sufficient."
   ]
  },
  {
   "cell_type": "markdown",
   "id": "c131f390",
   "metadata": {},
   "source": [
    "## Case 1b: M/M/1 model when doubling the arrival rate"
   ]
  },
  {
   "cell_type": "code",
   "execution_count": 4,
   "id": "ce11cd84",
   "metadata": {},
   "outputs": [
    {
     "name": "stdout",
     "output_type": "stream",
     "text": [
      "Mean response time: 0.1030 s\n"
     ]
    }
   ],
   "source": [
    "# Parameters\n",
    "arrival_rate = 180.0\n",
    "service_rate = 190.0\n",
    "num_requests = 1_000_000\n",
    "\n",
    "# Results\n",
    "response_times = []\n",
    "\n",
    "env = simpy.Environment()\n",
    "server = simpy.Resource(env, capacity=1)\n",
    "env.process(request_generator(env))\n",
    "env.run()\n",
    "\n",
    "# ---------------------------------------------------------------------------\n",
    "# Compute the results\n",
    "mean_response_time = np.mean(response_times)\n",
    "print(f'Mean response time: {mean_response_time:.4f} s')"
   ]
  },
  {
   "cell_type": "markdown",
   "id": "91fe1c55",
   "metadata": {},
   "source": [
    "> To keep a mean time of 100ms we do not have to double mu in fact putting mu = 190 is sufficient. We also see that the simulated results obtained are almost identical to the analytical ones."
   ]
  },
  {
   "cell_type": "markdown",
   "id": "c5b72ce7",
   "metadata": {},
   "source": [
    "## Case 2a: Batch arrivals"
   ]
  },
  {
   "cell_type": "markdown",
   "id": "df538920",
   "metadata": {},
   "source": [
    "> First we need to compute the new lambda. \n",
    "\n",
    "> Since each web page request generates a random number of file downloads (uniformly distributed between 1 and 9), the average number of file downloads per web page is (1 + 9)/2 = 5. Thus, to achieve a file download rate of 90 per second we need to set lambda = 18 because 18 * 5 = 90"
   ]
  },
  {
   "cell_type": "code",
   "execution_count": 5,
   "id": "935a715a",
   "metadata": {},
   "outputs": [
    {
     "name": "stdout",
     "output_type": "stream",
     "text": [
      "Mean response time: 0.0992 s\n"
     ]
    }
   ],
   "source": [
    "# Parameters\n",
    "arrival_rate_webpages = 18.0\n",
    "service_rate = 127.0\n",
    "num_requests = 1_000_000\n",
    "\n",
    "# Results\n",
    "response_times = []\n",
    "\n",
    "# ---------------------------------------------------------------------------\n",
    "# SimPy model\n",
    "env = simpy.Environment()\n",
    "server = simpy.Resource(env, capacity=1)\n",
    "\n",
    "def request_generator(env):\n",
    "    for i in range(num_requests):\n",
    "        # Wait for the next web page request\n",
    "        yield env.timeout(random.expovariate(arrival_rate_webpages))\n",
    "        # Generate a batch of file download requests (1-9 requests per web page)\n",
    "        batch_size = random.randint(1, 9)\n",
    "        for _ in range(batch_size):\n",
    "            env.process(process_request(env))\n",
    "\n",
    "def process_request(env):\n",
    "    arrival_time = env.now\n",
    "    job = server.request()\n",
    "    # Wait for the server to become available (wait in the queue)\n",
    "    yield job\n",
    "    # Process the request\n",
    "    yield env.timeout(random.expovariate(service_rate))\n",
    "    departure_time = env.now\n",
    "    response_times.append(departure_time - arrival_time)\n",
    "    server.release(job)\n",
    "\n",
    "env.process(request_generator(env))\n",
    "env.run()\n",
    "\n",
    "# ---------------------------------------------------------------------------\n",
    "# Compute the results\n",
    "mean_response_time = np.mean(response_times)\n",
    "print(f'Mean response time: {mean_response_time:.4f} s')"
   ]
  },
  {
   "cell_type": "markdown",
   "id": "8768e9ff",
   "metadata": {},
   "source": [
    "## Case 2b: Batch arrivals and double arrival rate"
   ]
  },
  {
   "cell_type": "markdown",
   "id": "b889139e",
   "metadata": {},
   "source": [
    "> If we double the arrival of web requests then lambda = 36 because 18 * 2 = 36 and as we have seen in 2a 36 * 5 = 180 which corresponds to the doubling of the arrival rate like we saw in 1b."
   ]
  },
  {
   "cell_type": "code",
   "execution_count": 6,
   "id": "08ae8f57",
   "metadata": {},
   "outputs": [
    {
     "name": "stdout",
     "output_type": "stream",
     "text": [
      "Mean response time: 0.0995 s\n"
     ]
    }
   ],
   "source": [
    "# Parameters\n",
    "arrival_rate_webpages = 36.0\n",
    "service_rate = 217.0\n",
    "num_requests = 1_000_000\n",
    "\n",
    "# Results\n",
    "response_times = []\n",
    "\n",
    "# ---------------------------------------------------------------------------\n",
    "# SimPy model\n",
    "env = simpy.Environment()\n",
    "server = simpy.Resource(env, capacity=1)\n",
    "env.process(request_generator(env))\n",
    "env.run()\n",
    "\n",
    "# ---------------------------------------------------------------------------\n",
    "# Compute the results\n",
    "mean_response_time = np.mean(response_times)\n",
    "print(f'Mean response time: {mean_response_time:.4f} s')"
   ]
  },
  {
   "cell_type": "markdown",
   "id": "efbd54e0",
   "metadata": {},
   "source": [
    "## Case 3a: Batch arrivals and 99th percentile"
   ]
  },
  {
   "cell_type": "markdown",
   "id": "d598263c",
   "metadata": {},
   "source": [
    "> As in case 2a we will use a lambda of 18. "
   ]
  },
  {
   "cell_type": "code",
   "execution_count": 7,
   "id": "922a0364",
   "metadata": {},
   "outputs": [
    {
     "name": "stdout",
     "output_type": "stream",
     "text": [
      "Response time (99th percentile): 0.2972 s\n"
     ]
    }
   ],
   "source": [
    "# Parameters\n",
    "arrival_rate_webpages = 18.0\n",
    "service_rate = 143.0\n",
    "num_requests = 1_000_000\n",
    "\n",
    "# Results\n",
    "response_times = []\n",
    "\n",
    "# ---------------------------------------------------------------------------\n",
    "# SimPy model\n",
    "env = simpy.Environment()\n",
    "server = simpy.Resource(env, capacity=1)\n",
    "env.process(request_generator(env))\n",
    "env.run()\n",
    "\n",
    "# ---------------------------------------------------------------------------\n",
    "# Compute the results\n",
    "response_time_99 = np.percentile(response_times, 99)\n",
    "print(f'Response time (99th percentile): {response_time_99:.4f} s')"
   ]
  },
  {
   "cell_type": "markdown",
   "id": "b6fbc9b0",
   "metadata": {},
   "source": [
    "## Case 3b: Batch arrivals, 99th percentile and double arrival rate"
   ]
  },
  {
   "cell_type": "markdown",
   "id": "33cbdfa4",
   "metadata": {},
   "source": [
    "> As in case 2b we will use a lambda of 36."
   ]
  },
  {
   "cell_type": "code",
   "execution_count": 8,
   "id": "be21a4c3",
   "metadata": {},
   "outputs": [
    {
     "name": "stdout",
     "output_type": "stream",
     "text": [
      "Response time (99th percentile): 0.3058 s\n"
     ]
    }
   ],
   "source": [
    "# Parameters\n",
    "arrival_rate_webpages = 36.0\n",
    "service_rate = 234.0\n",
    "num_requests = 1_000_000\n",
    "\n",
    "# Results\n",
    "response_times = []\n",
    "\n",
    "# ---------------------------------------------------------------------------\n",
    "# SimPy model\n",
    "env = simpy.Environment()\n",
    "server = simpy.Resource(env, capacity=1)\n",
    "env.process(request_generator(env))\n",
    "env.run()\n",
    "\n",
    "# ---------------------------------------------------------------------------\n",
    "# Compute the results\n",
    "response_time_99 = np.percentile(response_times, 99)\n",
    "print(f'Response time (99th percentile): {response_time_99:.4f} s')"
   ]
  },
  {
   "cell_type": "markdown",
   "id": "e1094a80",
   "metadata": {},
   "source": [
    "## Visualization of the response time distribution"
   ]
  },
  {
   "cell_type": "code",
   "execution_count": 9,
   "id": "f8005499",
   "metadata": {},
   "outputs": [],
   "source": [
    "# Response time plots\n",
    "import json\n",
    "import matplotlib.pyplot as plt\n",
    "import numpy as np\n",
    "\n",
    "MAX_POINTS = 1_000_000\n",
    "\n",
    "\n",
    "# ----------------------------------------------------------------------------\n",
    "# Histogram plot\n",
    "def histogram_plot(data, max_points=MAX_POINTS, num_bins=100,\n",
    "                   title=\"Histogram\", xlabel=\"Response time (s)\",\n",
    "                   filename='histogram.png'):\n",
    "    d = data[:max_points]\n",
    "    plt.hist(d, bins=num_bins, color='steelblue', edgecolor='black')\n",
    "    plt.title(title)\n",
    "    plt.xlabel(xlabel)\n",
    "    plt.savefig(filename, bbox_inches=\"tight\")\n",
    "    plt.close()\n",
    "\n",
    "# ----------------------------------------------------------------------------\n",
    "# Scatter plot\n",
    "def scatter_plot(data, max_points=MAX_POINTS,\n",
    "                 title=\"Scatter plot\", ylabel=\"Response time (s)\",\n",
    "                 filename='scatter.png'):\n",
    "    d = data[:max_points]\n",
    "    fig = plt.scatter(x=range(len(d)), y=d, s=1, color='steelblue')\n",
    "    plt.title(title)\n",
    "    plt.ylabel(ylabel)\n",
    "    plt.savefig(filename, bbox_inches=\"tight\")\n",
    "    plt.close()\n",
    "\n",
    "# ----------------------------------------------------------------------------\n",
    "# Percentile plot\n",
    "def percentile_plot(data, max_points=MAX_POINTS, window=10_000,\n",
    "                    title=\"Percentile plot\", ylabel=\"Response time (s)\",\n",
    "                    filename='percentiles.png'):\n",
    "    d = data[:max_points]\n",
    "    windows = np.reshape(d, (-1, window))\n",
    "    dmean = np.mean(windows, axis=1)\n",
    "    dmedian = np.median(windows, axis=1)\n",
    "    d95 = np.percentile(windows, 95, axis=1)\n",
    "    d99 = np.percentile(windows, 99, axis=1)\n",
    "\n",
    "    # Plot all series in a line plot\n",
    "    plt.plot(dmean, label='Mean', color='steelblue', linestyle='-')\n",
    "    plt.plot(dmedian, label='Median', color='steelblue', linestyle='--')\n",
    "    plt.plot(d95, label='95th percentile', color='steelblue', linestyle='-.')\n",
    "    plt.plot(d99, label='99th percentile', color='steelblue', linestyle=':')\n",
    "\n",
    "    xticks = np.arange(0, max_points//window, 4)\n",
    "    plt.xticks(ticks=xticks, labels=xticks * window, rotation=90)\n",
    "    plt.title(title)\n",
    "    plt.ylabel(ylabel)\n",
    "    plt.legend(loc='upper right')\n",
    "    plt.savefig(filename, bbox_inches=\"tight\")\n",
    "    plt.close()\n",
    "\n",
    "# ----------------------------------------------------------------------------\n",
    "# Heatmap plot\n",
    "def heatmap_plot(data, max_points=MAX_POINTS, x_points=20, y_points=40,\n",
    "                 title=\"Heatmap plot\", ylabel=\"Response time (s)\",\n",
    "                 filename='heatmap.png'):\n",
    "    d = data[:max_points]\n",
    "    window = max_points//x_points\n",
    "    num_bins = y_points\n",
    "    d_min = np.min(d)\n",
    "    d_max = np.max(d)\n",
    "    windows = np.reshape(d, (-1, window))\n",
    "    histograms = np.array([np.histogram(window, bins=num_bins, range=(d_min, d_max))[0] for window in windows])\n",
    "    bin_edges = np.histogram_bin_edges(data, bins=num_bins, range=(data.min(), data.max()))\n",
    "    plt.imshow(histograms.T, aspect='auto', cmap='Reds', origin='lower')\n",
    "    plt.colorbar(label='Number of values')\n",
    "    xticks = np.arange(0, x_points, 2)\n",
    "    plt.xticks(ticks=xticks, labels=xticks * window, rotation=90)\n",
    "    yticks = np.arange(0, num_bins, 4)\n",
    "    plt.yticks(ticks=yticks, labels=np.round(yticks*(d_max-d_min)/num_bins, 2))\n",
    "    plt.title(title)\n",
    "    plt.ylabel(ylabel)\n",
    "    plt.savefig(filename, bbox_inches=\"tight\")\n",
    "    plt.close()"
   ]
  },
  {
   "cell_type": "code",
   "execution_count": 10,
   "id": "fb42f3ab",
   "metadata": {},
   "outputs": [],
   "source": [
    "response_times_np_array = np.array(response_times)\n",
    "\n",
    "histogram_plot(response_times_np_array)\n",
    "\n",
    "scatter_plot(response_times_np_array)\n",
    "\n",
    "percentile_plot(response_times_np_array)\n",
    "\n",
    "heatmap_plot(response_times_np_array)"
   ]
  },
  {
   "cell_type": "markdown",
   "id": "16017679",
   "metadata": {},
   "source": [
    "> After executing the above code, the resulting plots are saved as a PNG and have been integrated with their interpretation in the Report.md file"
   ]
  },
  {
   "cell_type": "code",
   "execution_count": null,
   "id": "ed749f04",
   "metadata": {},
   "outputs": [],
   "source": []
  }
 ],
 "metadata": {
  "kernelspec": {
   "display_name": "Python 3 (ipykernel)",
   "language": "python",
   "name": "python3"
  },
  "language_info": {
   "codemirror_mode": {
    "name": "ipython",
    "version": 3
   },
   "file_extension": ".py",
   "mimetype": "text/x-python",
   "name": "python",
   "nbconvert_exporter": "python",
   "pygments_lexer": "ipython3",
   "version": "3.9.7"
  }
 },
 "nbformat": 4,
 "nbformat_minor": 5
}
